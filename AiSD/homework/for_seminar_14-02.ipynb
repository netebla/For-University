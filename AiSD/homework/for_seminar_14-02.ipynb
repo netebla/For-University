{
 "cells": [
  {
   "cell_type": "markdown",
   "metadata": {},
   "source": [
    "1) При помощи стека (можно использовать любую реализацию стека, например, из лекции) проверить, что в строке, содержащей большой фрагмент кода на python, корректно открываются и закрываются скобки '(' и ')'. Заводить какие-либо счетчики и вообще вести подсчет скобок запрещено. \n",
    "Например, в следующей строке корректное количество скобок: \n",
    "'((dsasdas((das(d)das)d)asd)da)' \n",
    "А вот в следующей закрывающих больше, чем открывающих:\n",
    "'(f(gfhd((hgfdg((fghh)dads)das))ds)adddads())))' \n"
   ]
  },
  {
   "cell_type": "code",
   "execution_count": 1,
   "metadata": {},
   "outputs": [
    {
     "name": "stdout",
     "output_type": "stream",
     "text": [
      "correct\n"
     ]
    }
   ],
   "source": [
    "def correct(string):\n",
    "    stackarray = []\n",
    "    for i in string:\n",
    "        if i == '(':\n",
    "            stackarray.append('*')\n",
    "        if i == ')':\n",
    "            if len(stackarray) == 0:\n",
    "                return 'incorrect'\n",
    "            else:\n",
    "                stackarray = stackarray[:-1]\n",
    "        print(stackarray)\n",
    "    if len(stackarray) == 0:\n",
    "        return 'correct'\n",
    "    if len(stackarray) > 0:\n",
    "        return 'incorrect'\n",
    "string = input()\n",
    "print(correct(string))\n"
   ]
  },
  {
   "cell_type": "markdown",
   "metadata": {},
   "source": [
    "2) С помощью списка (list) реализовать стек. При создании стека нужно передать максимальную длину стека. В случае попытки добавления элемента, приводящего к превышению емкости стека возвращать ошибку. \n",
    "Стек должен поддерживать следующие операции: \n",
    "S.push(e): добавление элемента e на вершину стека S. \n",
    "S.pop(): удаляет и возвращает верхний элемент стека S. Если стек пуст, то возникает ошибка. \n",
    "S.top(): возвращает верхний элемент стека S, не удаляя его. Если стек пуст, то возникает ошибка. \n",
    "S.is_empty( ): возвращает True если стек S не содержит ни одного элемента. \n",
    "len(S): возвращает текущеее количество элементов в стеке S. \n"
   ]
  },
  {
   "cell_type": "code",
   "execution_count": 4,
   "metadata": {},
   "outputs": [
    {
     "name": "stdout",
     "output_type": "stream",
     "text": [
      "3\n",
      "3\n",
      "2\n"
     ]
    }
   ],
   "source": [
    "class Stack:\n",
    "    def __init__(self, max_size):\n",
    "        self.max_size = max_size\n",
    "        self.stack = []\n",
    "\n",
    "    def push(self, element):\n",
    "        if len(self.stack) < self.max_size:\n",
    "            self.stack.append(element)\n",
    "        else:\n",
    "            raise ValueError(\"Стек переполнен\")\n",
    "\n",
    "    def pop(self):\n",
    "        if self.is_empty():\n",
    "            raise ValueError(\"Стек пуст\")\n",
    "        return self.stack.pop()\n",
    "\n",
    "    def top(self):\n",
    "        if self.is_empty():\n",
    "            raise ValueError(\"Стек пуст\")\n",
    "        return self.stack[-1]\n",
    "\n",
    "    def is_empty(self):\n",
    "        return len(self.stack) == 0\n",
    "\n",
    "    def __len__(self):\n",
    "        return len(self.stack)\n",
    "lenofstack = int(5)\n",
    "S = Stack(lenofstack)\n",
    "S.push(1)\n",
    "S.push(2)\n",
    "S.push(3)\n",
    "print(S.top())\n",
    "print(len(S))\n",
    "S.pop()\n",
    "print(S.top())\n"
   ]
  },
  {
   "cell_type": "markdown",
   "metadata": {},
   "source": [
    "3) Реализовать класс однонаправленного связанного списка.  \n",
    "\n",
    "3.1) Реализовать метод добавления элемента в начало списка.  \n"
   ]
  },
  {
   "cell_type": "code",
   "execution_count": null,
   "metadata": {},
   "outputs": [],
   "source": [
    "# здесь может быть ошибка, потому что класс я не наследовал, а создал новый.\n",
    "class Node:\n",
    "    def __init__(self, data=None, next_node=None):\n",
    "        self.data = data\n",
    "        self.next_node = next_node\n",
    "\n",
    "class SinglyLinkedList:\n",
    "    def __init__(self):\n",
    "        self.head = None\n",
    "\n",
    "    def is_empty(self):\n",
    "        return self.head is None\n",
    "\n",
    "    def append(self, data):\n",
    "        new_node = Node(data)\n",
    "        if self.head is None:\n",
    "            self.head = new_node\n",
    "        else:\n",
    "            current = self.head\n",
    "            while current.next_node is not None:\n",
    "                current = current.next_node\n",
    "            current.next_node = new_node\n",
    "    def appstart(self, data):\n",
    "        new_node = Node(data, self.head)\n",
    "        self.head = new_node\n",
    "\n",
    "    def display(self):\n",
    "        elements = []\n",
    "        current = self.head\n",
    "        while current is not None:\n",
    "            elements.append(current.data)\n",
    "            current = current.next_node\n",
    "        print(elements)\n",
    "\n",
    "linked_list = SinglyLinkedList()\n",
    "linked_list.append(1)\n",
    "linked_list.appstart(4)\n",
    "'''linked_list.append(2)\n",
    "linked_list.appstart(3)'''\n",
    "linked_list.display()"
   ]
  },
  {
   "cell_type": "markdown",
   "metadata": {},
   "source": [
    "4) На базе класса однонаправленного связанного списка реализовать двунаправленный связанный список.  \n",
    "\n",
    "4.1) Реализовать метод добавления элемента в начало списка.  \n"
   ]
  },
  {
   "cell_type": "code",
   "execution_count": null,
   "metadata": {},
   "outputs": [],
   "source": [
    "class Node:\n",
    "    def __init__(self, data=None, prev_node=None, next_node=None):\n",
    "        self.data = data\n",
    "        self.prev_node = prev_node\n",
    "        self.next_node = next_node\n",
    "\n",
    "class DoublyLinkedList:\n",
    "    def __init__(self):\n",
    "        self.head = None\n",
    "        self.tail = None\n",
    "\n",
    "    def is_empty(self):\n",
    "        return self.head is None\n",
    "    def append(self, data):\n",
    "        new_node = Node(data)\n",
    "        if self.head is None:\n",
    "            self.head = new_node\n",
    "        else:\n",
    "            current = self.head\n",
    "            while current.next_node is not None:\n",
    "                current = current.next_node\n",
    "            current.next_node = new_node\n",
    "\n",
    "    def appstart(self, data):\n",
    "        new_node = Node(data, None, self.head)\n",
    "        if self.head is not None:\n",
    "            self.head.prev_node = new_node\n",
    "        else:\n",
    "            self.tail = new_node\n",
    "        self.head = new_node\n",
    "\n",
    "    def display_forward(self):\n",
    "        current = self.head\n",
    "        elements = []\n",
    "        while current is not None:\n",
    "            elements.append(current.data)\n",
    "            current = current.next_node\n",
    "        print(\"Forward:\", elements)\n",
    "\n",
    "    def display_backward(self):\n",
    "        current = self.tail\n",
    "        elements = []\n",
    "        while current is not None:\n",
    "            elements.append(current.data)\n",
    "            current = current.prev_node\n",
    "        print(\"Backward:\", elements)\n",
    "\n",
    "# Пример использования\n",
    "doubly_linked_list = DoublyLinkedList()\n",
    "doubly_linked_list.appstart(3)\n",
    "doubly_linked_list.appstart(2)\n",
    "doubly_linked_list.appstart(1)\n",
    "doubly_linked_list.display_forward()   # Вывод: Forward: [1, 2, 3]\n",
    "doubly_linked_list.display_backward()  # Вывод: Backward: [3, 2, 1]"
   ]
  }
 ],
 "metadata": {
  "kernelspec": {
   "display_name": "Python 3.11.3 64-bit",
   "language": "python",
   "name": "python3"
  },
  "language_info": {
   "codemirror_mode": {
    "name": "ipython",
    "version": 3
   },
   "file_extension": ".py",
   "mimetype": "text/x-python",
   "name": "python",
   "nbconvert_exporter": "python",
   "pygments_lexer": "ipython3",
   "version": "3.11.3"
  },
  "orig_nbformat": 4,
  "vscode": {
   "interpreter": {
    "hash": "aee8b7b246df8f9039afb4144a1f6fd8d2ca17a180786b69acc140d282b71a49"
   }
  }
 },
 "nbformat": 4,
 "nbformat_minor": 2
}
